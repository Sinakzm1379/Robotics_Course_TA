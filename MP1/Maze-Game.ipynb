{
 "cells": [
  {
   "cell_type": "markdown",
   "metadata": {},
   "source": [
    "Libraries"
   ]
  },
  {
   "cell_type": "code",
   "execution_count": null,
   "metadata": {},
   "outputs": [],
   "source": [
    "import pygame\n",
    "import sys\n",
    "import random\n",
    "import time"
   ]
  },
  {
   "cell_type": "markdown",
   "metadata": {},
   "source": [
    "Initialize Pygame"
   ]
  },
  {
   "cell_type": "code",
   "execution_count": null,
   "metadata": {},
   "outputs": [],
   "source": [
    "pygame.init()"
   ]
  },
  {
   "cell_type": "markdown",
   "metadata": {},
   "source": [
    "Constants"
   ]
  },
  {
   "cell_type": "code",
   "execution_count": null,
   "metadata": {},
   "outputs": [],
   "source": [
    "WIDTH, HEIGHT = 600, 600\n",
    "CELL_SIZE = 30\n",
    "ROWS, COLS = HEIGHT // CELL_SIZE, WIDTH // CELL_SIZE\n",
    "FPS = 30  # Adjust the FPS for slower movement"
   ]
  },
  {
   "cell_type": "markdown",
   "metadata": {},
   "source": [
    "Colors"
   ]
  },
  {
   "cell_type": "code",
   "execution_count": null,
   "metadata": {},
   "outputs": [],
   "source": [
    "WHITE = (255, 255, 255)\n",
    "GRAY = (181, 176, 173)\n",
    "DARK_BLUE = (3, 102, 150)\n",
    "MEDIUM_BLUE = (7, 87, 91)\n",
    "LIGHT_BLUE = (173, 216, 230)\n",
    "RED = (255, 0, 0)"
   ]
  },
  {
   "cell_type": "markdown",
   "metadata": {},
   "source": [
    "Initialize clock"
   ]
  },
  {
   "cell_type": "code",
   "execution_count": null,
   "metadata": {},
   "outputs": [],
   "source": [
    "clock = pygame.time.Clock()"
   ]
  },
  {
   "cell_type": "markdown",
   "metadata": {},
   "source": [
    "Initialize serial communication with Arduino"
   ]
  },
  {
   "cell_type": "code",
   "execution_count": null,
   "metadata": {},
   "outputs": [],
   "source": [
    "# Add your code here to connect the python to the serial port."
   ]
  },
  {
   "cell_type": "markdown",
   "metadata": {},
   "source": [
    "Maze generation - DO NOT CHANGE THIS FUNCTION!"
   ]
  },
  {
   "cell_type": "code",
   "execution_count": null,
   "metadata": {},
   "outputs": [],
   "source": [
    "def generate_maze():\n",
    "    maze = [[0] * COLS for _ in range(ROWS)]\n",
    "    stack = []\n",
    "    start_cell = (1, 1)\n",
    "    end_cell = (ROWS - 3, COLS - 3)\n",
    "    stack.append(start_cell)\n",
    "    maze[start_cell[0]][start_cell[1]] = 1\n",
    "\n",
    "    while stack:\n",
    "        current_cell = stack[-1]\n",
    "        neighbors = [\n",
    "            (current_cell[0] - 2, current_cell[1]),\n",
    "            (current_cell[0] + 2, current_cell[1]),\n",
    "            (current_cell[0], current_cell[1] - 2),\n",
    "            (current_cell[0], current_cell[1] + 2),\n",
    "        ]\n",
    "        unvisited_neighbors = [neighbor for neighbor in neighbors if 0 < neighbor[0] < ROWS - 1 and 0 < neighbor[1] < COLS - 1 and maze[neighbor[0]][neighbor[1]] == 0]\n",
    "\n",
    "        if unvisited_neighbors:\n",
    "            chosen_neighbor = random.choice(unvisited_neighbors)\n",
    "            maze[chosen_neighbor[0]][chosen_neighbor[1]] = 1\n",
    "            maze[(chosen_neighbor[0] + current_cell[0]) // 2][(chosen_neighbor[1] + current_cell[1]) // 2] = 1\n",
    "            stack.append(chosen_neighbor)\n",
    "        else:\n",
    "            stack.pop()\n",
    "\n",
    "    return maze, start_cell, end_cell\n",
    "\n",
    "maze, start_point, end_point = generate_maze()\n",
    "\n",
    "# Player position\n",
    "player_row, player_col = start_point"
   ]
  },
  {
   "cell_type": "markdown",
   "metadata": {},
   "source": [
    "Game"
   ]
  },
  {
   "cell_type": "code",
   "execution_count": null,
   "metadata": {},
   "outputs": [],
   "source": [
    "# Initialize the screen\n",
    "screen = pygame.display.set_mode((WIDTH, HEIGHT))\n",
    "pygame.display.set_caption(\"Maze Game\")\n",
    "\n",
    "# Game loop\n",
    "while True:\n",
    "    for event in pygame.event.get():\n",
    "        if event.type == pygame.QUIT:\n",
    "            pygame.quit()\n",
    "            sys.exit()\n",
    "    # Read data from MPU-6050 sensor through serial communication\n",
    "    \"\"\"\n",
    "    Add your code here to use the data from serial print for next step.\n",
    "    \"\"\"\n",
    "\n",
    "    # Adjust player position based on MPU-6050 data\n",
    "    \"\"\"\n",
    "    This Code uses \"W-A-S-S\" keys to move the ball.\n",
    "    After you read the data, you should change these following conditions and replace them with the ones that changes the position of the ball using the data from the previous step.\n",
    "    \"\"\"\n",
    "    keys = pygame.key.get_pressed()\n",
    "    if keys[pygame.K_a] and player_col > 0 and maze[player_row][player_col - 1] == 1:\n",
    "        player_col -= 1\n",
    "    if keys[pygame.K_d] and player_col < COLS - 1 and maze[player_row][player_col + 1] == 1:\n",
    "        player_col += 1\n",
    "    if keys[pygame.K_w] and player_row > 0 and maze[player_row - 1][player_col] == 1:\n",
    "        player_row -= 1\n",
    "    if keys[pygame.K_s] and player_row < ROWS - 1 and maze[player_row + 1][player_col] == 1:\n",
    "        player_row += 1\n",
    "\n",
    "    # Draw maze\n",
    "    screen.fill(WHITE)\n",
    "    for row in range(ROWS):\n",
    "        for col in range(COLS):\n",
    "            if maze[row][col] == 1:\n",
    "                pygame.draw.rect(screen, MEDIUM_BLUE, (col * CELL_SIZE, row * CELL_SIZE, CELL_SIZE, CELL_SIZE))\n",
    "    for row in range(ROWS):\n",
    "        for col in range(COLS):\n",
    "            if (row, col) == start_point:\n",
    "                pygame.draw.rect(screen, LIGHT_BLUE, (col * CELL_SIZE, row * CELL_SIZE, CELL_SIZE, CELL_SIZE))\n",
    "            elif (row, col) == end_point:\n",
    "                pygame.draw.rect(screen, LIGHT_BLUE, (col * CELL_SIZE, row * CELL_SIZE, CELL_SIZE, CELL_SIZE))\n",
    "\n",
    "    # Draw player\n",
    "    pygame.draw.circle(screen, GRAY, (player_col * CELL_SIZE + CELL_SIZE // 2, player_row * CELL_SIZE + CELL_SIZE // 2), CELL_SIZE // 3)\n",
    "    \n",
    "    # Check if the player reaches the end point\n",
    "    if (player_row, player_col) == end_point:\n",
    "        pygame.display.flip()\n",
    "        print(\"Congratulations! You reached the end of the maze.\")\n",
    "        time.sleep(5)\n",
    "        pygame.quit()\n",
    "        sys.exit()\n",
    "    pygame.display.flip()\n",
    "    clock.tick(FPS)"
   ]
  }
 ],
 "metadata": {
  "kernelspec": {
   "display_name": "base",
   "language": "python",
   "name": "python3"
  },
  "language_info": {
   "codemirror_mode": {
    "name": "ipython",
    "version": 3
   },
   "file_extension": ".py",
   "mimetype": "text/x-python",
   "name": "python",
   "nbconvert_exporter": "python",
   "pygments_lexer": "ipython3",
   "version": "3.9.12"
  }
 },
 "nbformat": 4,
 "nbformat_minor": 2
}
